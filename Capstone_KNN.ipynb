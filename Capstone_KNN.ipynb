{
 "cells": [
  {
   "cell_type": "code",
   "execution_count": 59,
   "metadata": {},
   "outputs": [],
   "source": [
    "import pandas as pd\n",
    "import numpy as np\n",
    "import itertools\n",
    "\n",
    "import matplotlib.pyplot as plt\n",
    "import matplotlib.ticker as ticker\n",
    "from matplotlib.ticker import NullFormatter\n",
    "%matplotlib inline\n",
    "\n",
    "from sklearn import preprocessing\n",
    "from sklearn.model_selection import train_test_split\n",
    "from sklearn.neighbors import KNeighborsClassifier\n",
    "from sklearn import metrics"
   ]
  },
  {
   "cell_type": "code",
   "execution_count": 2,
   "metadata": {},
   "outputs": [],
   "source": [
    "mf = pd.read_csv('m_full.csv')"
   ]
  },
  {
   "cell_type": "code",
   "execution_count": 3,
   "metadata": {},
   "outputs": [
    {
     "data": {
      "text/html": [
       "<div>\n",
       "<style scoped>\n",
       "    .dataframe tbody tr th:only-of-type {\n",
       "        vertical-align: middle;\n",
       "    }\n",
       "\n",
       "    .dataframe tbody tr th {\n",
       "        vertical-align: top;\n",
       "    }\n",
       "\n",
       "    .dataframe thead th {\n",
       "        text-align: right;\n",
       "    }\n",
       "</style>\n",
       "<table border=\"1\" class=\"dataframe\">\n",
       "  <thead>\n",
       "    <tr style=\"text-align: right;\">\n",
       "      <th></th>\n",
       "      <th>id</th>\n",
       "      <th>city</th>\n",
       "      <th>country</th>\n",
       "      <th>month</th>\n",
       "      <th>name</th>\n",
       "      <th>series</th>\n",
       "      <th>state</th>\n",
       "      <th>year</th>\n",
       "      <th>date</th>\n",
       "      <th>cun</th>\n",
       "      <th>location_type</th>\n",
       "      <th>location_path</th>\n",
       "      <th>latitude</th>\n",
       "      <th>longitude</th>\n",
       "    </tr>\n",
       "  </thead>\n",
       "  <tbody>\n",
       "    <tr>\n",
       "      <td>0</td>\n",
       "      <td>aachen_icon</td>\n",
       "      <td>Aachen</td>\n",
       "      <td>Germany</td>\n",
       "      <td>January</td>\n",
       "      <td>Aachen</td>\n",
       "      <td>icon</td>\n",
       "      <td>NaN</td>\n",
       "      <td>2009</td>\n",
       "      <td>2009-01-01</td>\n",
       "      <td>Aachen</td>\n",
       "      <td>city</td>\n",
       "      <td>Aachen, Germany</td>\n",
       "      <td>50.776351</td>\n",
       "      <td>6.083862</td>\n",
       "    </tr>\n",
       "    <tr>\n",
       "      <td>1</td>\n",
       "      <td>aarhus_icon</td>\n",
       "      <td>Aarhus</td>\n",
       "      <td>Denmark</td>\n",
       "      <td>January</td>\n",
       "      <td>Aarhus</td>\n",
       "      <td>icon</td>\n",
       "      <td>NaN</td>\n",
       "      <td>2014</td>\n",
       "      <td>2014-01-01</td>\n",
       "      <td>Arhus</td>\n",
       "      <td>city</td>\n",
       "      <td>Aarhus, Denmark</td>\n",
       "      <td>56.149628</td>\n",
       "      <td>10.213405</td>\n",
       "    </tr>\n",
       "    <tr>\n",
       "      <td>2</td>\n",
       "      <td>aberdeen_yah</td>\n",
       "      <td>Aberdeen</td>\n",
       "      <td>United Kingdom</td>\n",
       "      <td>August</td>\n",
       "      <td>Aberdeen</td>\n",
       "      <td>yah</td>\n",
       "      <td>Scotland</td>\n",
       "      <td>2017</td>\n",
       "      <td>2017-08-01</td>\n",
       "      <td>Aberdeen</td>\n",
       "      <td>city</td>\n",
       "      <td>Aberdeen, Scotland, United Kingdom</td>\n",
       "      <td>57.148243</td>\n",
       "      <td>-2.092809</td>\n",
       "    </tr>\n",
       "    <tr>\n",
       "      <td>3</td>\n",
       "      <td>abu_dhabi_icon</td>\n",
       "      <td>Abu Dhabi</td>\n",
       "      <td>United Arab Emirates</td>\n",
       "      <td>January</td>\n",
       "      <td>Abu Dhabi</td>\n",
       "      <td>icon</td>\n",
       "      <td>NaN</td>\n",
       "      <td>2011</td>\n",
       "      <td>2011-01-01</td>\n",
       "      <td>Abu Dhabi</td>\n",
       "      <td>city</td>\n",
       "      <td>Abu Dhabi, United Arab Emirates</td>\n",
       "      <td>23.997644</td>\n",
       "      <td>53.643910</td>\n",
       "    </tr>\n",
       "    <tr>\n",
       "      <td>4</td>\n",
       "      <td>acapulco_bts</td>\n",
       "      <td>Acapulco</td>\n",
       "      <td>Mexico</td>\n",
       "      <td>August</td>\n",
       "      <td>Acapulco</td>\n",
       "      <td>bts</td>\n",
       "      <td>Guerrero</td>\n",
       "      <td>2018</td>\n",
       "      <td>2018-08-01</td>\n",
       "      <td>Acapulco de Juarez</td>\n",
       "      <td>city</td>\n",
       "      <td>Acapulco, Guerrero, Mexico</td>\n",
       "      <td>16.868049</td>\n",
       "      <td>-99.894018</td>\n",
       "    </tr>\n",
       "  </tbody>\n",
       "</table>\n",
       "</div>"
      ],
      "text/plain": [
       "               id       city               country    month       name series  \\\n",
       "0     aachen_icon     Aachen               Germany  January     Aachen   icon   \n",
       "1     aarhus_icon     Aarhus               Denmark  January     Aarhus   icon   \n",
       "2    aberdeen_yah   Aberdeen        United Kingdom   August   Aberdeen    yah   \n",
       "3  abu_dhabi_icon  Abu Dhabi  United Arab Emirates  January  Abu Dhabi   icon   \n",
       "4    acapulco_bts   Acapulco                Mexico   August   Acapulco    bts   \n",
       "\n",
       "      state  year        date                 cun location_type  \\\n",
       "0       NaN  2009  2009-01-01              Aachen          city   \n",
       "1       NaN  2014  2014-01-01               Arhus          city   \n",
       "2  Scotland  2017  2017-08-01            Aberdeen          city   \n",
       "3       NaN  2011  2011-01-01           Abu Dhabi          city   \n",
       "4  Guerrero  2018  2018-08-01  Acapulco de Juarez          city   \n",
       "\n",
       "                        location_path   latitude  longitude  \n",
       "0                     Aachen, Germany  50.776351   6.083862  \n",
       "1                     Aarhus, Denmark  56.149628  10.213405  \n",
       "2  Aberdeen, Scotland, United Kingdom  57.148243  -2.092809  \n",
       "3     Abu Dhabi, United Arab Emirates  23.997644  53.643910  \n",
       "4          Acapulco, Guerrero, Mexico  16.868049 -99.894018  "
      ]
     },
     "execution_count": 3,
     "metadata": {},
     "output_type": "execute_result"
    }
   ],
   "source": [
    "mf.head()"
   ]
  },
  {
   "cell_type": "code",
   "execution_count": 18,
   "metadata": {},
   "outputs": [],
   "source": [
    "series = mf.series.unique()"
   ]
  },
  {
   "cell_type": "code",
   "execution_count": 19,
   "metadata": {},
   "outputs": [
    {
     "data": {
      "text/plain": [
       "array(['icon', 'yah', 'bts', 'bto', 'yaho', 'rlf', 'yahx', 'btx', 'yahox'],\n",
       "      dtype=object)"
      ]
     },
     "execution_count": 19,
     "metadata": {},
     "output_type": "execute_result"
    }
   ],
   "source": [
    "series"
   ]
  },
  {
   "cell_type": "code",
   "execution_count": 22,
   "metadata": {},
   "outputs": [
    {
     "data": {
      "text/plain": [
       "9"
      ]
     },
     "execution_count": 22,
     "metadata": {},
     "output_type": "execute_result"
    }
   ],
   "source": [
    "len(series)"
   ]
  },
  {
   "cell_type": "code",
   "execution_count": 7,
   "metadata": {},
   "outputs": [],
   "source": [
    "s_dict = {}"
   ]
  },
  {
   "cell_type": "code",
   "execution_count": 9,
   "metadata": {},
   "outputs": [
    {
     "data": {
      "text/plain": [
       "dict"
      ]
     },
     "execution_count": 9,
     "metadata": {},
     "output_type": "execute_result"
    }
   ],
   "source": [
    "type(s_dict)"
   ]
  },
  {
   "cell_type": "code",
   "execution_count": 26,
   "metadata": {},
   "outputs": [],
   "source": [
    "for i in range(len(series)):\n",
    "    s_dict[series[i]] = i"
   ]
  },
  {
   "cell_type": "code",
   "execution_count": 27,
   "metadata": {},
   "outputs": [
    {
     "data": {
      "text/plain": [
       "{'icon': 0,\n",
       " 'yah': 1,\n",
       " 'bts': 2,\n",
       " 'bto': 3,\n",
       " 'yaho': 4,\n",
       " 'rlf': 5,\n",
       " 'yahx': 6,\n",
       " 'btx': 7,\n",
       " 'yahox': 8}"
      ]
     },
     "execution_count": 27,
     "metadata": {},
     "output_type": "execute_result"
    }
   ],
   "source": [
    "s_dict"
   ]
  },
  {
   "cell_type": "code",
   "execution_count": 1,
   "metadata": {},
   "outputs": [
    {
     "ename": "NameError",
     "evalue": "name 'mf' is not defined",
     "output_type": "error",
     "traceback": [
      "\u001b[0;31m---------------------------------------------------------------------------\u001b[0m",
      "\u001b[0;31mNameError\u001b[0m                                 Traceback (most recent call last)",
      "\u001b[0;32m<ipython-input-1-703a44c593a7>\u001b[0m in \u001b[0;36m<module>\u001b[0;34m\u001b[0m\n\u001b[0;32m----> 1\u001b[0;31m \u001b[0mmf\u001b[0m\u001b[0;34m[\u001b[0m\u001b[0mmf\u001b[0m\u001b[0;34m.\u001b[0m\u001b[0mlocation_type\u001b[0m\u001b[0;34m==\u001b[0m\u001b[0;34m'special'\u001b[0m\u001b[0;34m]\u001b[0m\u001b[0;34m.\u001b[0m\u001b[0mhead\u001b[0m\u001b[0;34m(\u001b[0m\u001b[0;34m)\u001b[0m\u001b[0;34m\u001b[0m\u001b[0;34m\u001b[0m\u001b[0m\n\u001b[0m",
      "\u001b[0;31mNameError\u001b[0m: name 'mf' is not defined"
     ]
    }
   ],
   "source": [
    "mf[mf.location_type=='special'].head()"
   ]
  },
  {
   "cell_type": "code",
   "execution_count": 38,
   "metadata": {},
   "outputs": [],
   "source": [
    "m_knn = mf[['latitude','longitude','year','series']].replace({'series': s_dict})"
   ]
  },
  {
   "cell_type": "code",
   "execution_count": 41,
   "metadata": {},
   "outputs": [
    {
     "data": {
      "text/html": [
       "<div>\n",
       "<style scoped>\n",
       "    .dataframe tbody tr th:only-of-type {\n",
       "        vertical-align: middle;\n",
       "    }\n",
       "\n",
       "    .dataframe tbody tr th {\n",
       "        vertical-align: top;\n",
       "    }\n",
       "\n",
       "    .dataframe thead th {\n",
       "        text-align: right;\n",
       "    }\n",
       "</style>\n",
       "<table border=\"1\" class=\"dataframe\">\n",
       "  <thead>\n",
       "    <tr style=\"text-align: right;\">\n",
       "      <th></th>\n",
       "      <th>latitude</th>\n",
       "      <th>longitude</th>\n",
       "      <th>year</th>\n",
       "      <th>series</th>\n",
       "    </tr>\n",
       "  </thead>\n",
       "  <tbody>\n",
       "    <tr>\n",
       "      <td>0</td>\n",
       "      <td>50.776351</td>\n",
       "      <td>6.083862</td>\n",
       "      <td>2009</td>\n",
       "      <td>0</td>\n",
       "    </tr>\n",
       "    <tr>\n",
       "      <td>1</td>\n",
       "      <td>56.149628</td>\n",
       "      <td>10.213405</td>\n",
       "      <td>2014</td>\n",
       "      <td>0</td>\n",
       "    </tr>\n",
       "    <tr>\n",
       "      <td>2</td>\n",
       "      <td>57.148243</td>\n",
       "      <td>-2.092809</td>\n",
       "      <td>2017</td>\n",
       "      <td>1</td>\n",
       "    </tr>\n",
       "    <tr>\n",
       "      <td>3</td>\n",
       "      <td>23.997644</td>\n",
       "      <td>53.643910</td>\n",
       "      <td>2011</td>\n",
       "      <td>0</td>\n",
       "    </tr>\n",
       "    <tr>\n",
       "      <td>4</td>\n",
       "      <td>16.868049</td>\n",
       "      <td>-99.894018</td>\n",
       "      <td>2018</td>\n",
       "      <td>2</td>\n",
       "    </tr>\n",
       "  </tbody>\n",
       "</table>\n",
       "</div>"
      ],
      "text/plain": [
       "    latitude  longitude  year  series\n",
       "0  50.776351   6.083862  2009       0\n",
       "1  56.149628  10.213405  2014       0\n",
       "2  57.148243  -2.092809  2017       1\n",
       "3  23.997644  53.643910  2011       0\n",
       "4  16.868049 -99.894018  2018       2"
      ]
     },
     "execution_count": 41,
     "metadata": {},
     "output_type": "execute_result"
    }
   ],
   "source": [
    "m_knn.head()"
   ]
  },
  {
   "cell_type": "code",
   "execution_count": 52,
   "metadata": {},
   "outputs": [],
   "source": [
    "X = m_knn[['latitude','longitude','year']].values\n",
    "y = m_knn['series'].values"
   ]
  },
  {
   "cell_type": "code",
   "execution_count": 54,
   "metadata": {},
   "outputs": [
    {
     "data": {
      "text/plain": [
       "array([[  50.776351  ,    6.083862  , 2009.        ],\n",
       "       [  56.1496278 ,   10.2134046 , 2014.        ],\n",
       "       [  57.1482429 ,   -2.0928095 , 2017.        ],\n",
       "       [  23.99764435,   53.64390976, 2011.        ],\n",
       "       [  16.8680495 ,  -99.8940182 , 2018.        ]])"
      ]
     },
     "execution_count": 54,
     "metadata": {},
     "output_type": "execute_result"
    }
   ],
   "source": [
    "X[0:5]"
   ]
  },
  {
   "cell_type": "code",
   "execution_count": 55,
   "metadata": {},
   "outputs": [
    {
     "data": {
      "text/plain": [
       "array([0, 0, 1, 0, 2])"
      ]
     },
     "execution_count": 55,
     "metadata": {},
     "output_type": "execute_result"
    }
   ],
   "source": [
    "y[0:5]"
   ]
  },
  {
   "cell_type": "code",
   "execution_count": 56,
   "metadata": {},
   "outputs": [
    {
     "data": {
      "text/plain": [
       "array([[ 0.93609526,  0.04465743, -1.75854715],\n",
       "       [ 1.21511275,  0.09033083, -0.29104017],\n",
       "       [ 1.26696772, -0.04577786,  0.58946402],\n",
       "       [-0.45443941,  0.57067912, -1.17154436],\n",
       "       [-0.82465702, -1.12747478,  0.88296542]])"
      ]
     },
     "execution_count": 56,
     "metadata": {},
     "output_type": "execute_result"
    }
   ],
   "source": [
    "X = preprocessing.StandardScaler().fit(X).transform(X.astype(float))\n",
    "X[0:5]"
   ]
  },
  {
   "cell_type": "code",
   "execution_count": 71,
   "metadata": {},
   "outputs": [
    {
     "name": "stdout",
     "output_type": "stream",
     "text": [
      "Train set: (1144, 3) (1144,)\n",
      "Test set: (287, 3) (287,)\n"
     ]
    }
   ],
   "source": [
    "X_train, X_test, y_train, y_test = train_test_split( X, y, test_size=0.2, random_state=2)\n",
    "print ('Train set:', X_train.shape,  y_train.shape)\n",
    "print ('Test set:', X_test.shape,  y_test.shape)"
   ]
  },
  {
   "cell_type": "code",
   "execution_count": 72,
   "metadata": {},
   "outputs": [
    {
     "data": {
      "text/plain": [
       "KNeighborsClassifier(algorithm='auto', leaf_size=30, metric='minkowski',\n",
       "           metric_params=None, n_jobs=None, n_neighbors=4, p=2,\n",
       "           weights='uniform')"
      ]
     },
     "execution_count": 72,
     "metadata": {},
     "output_type": "execute_result"
    }
   ],
   "source": [
    "k = 4\n",
    "#Train Model and Predict  \n",
    "neigh = KNeighborsClassifier(n_neighbors = k).fit(X_train,y_train)\n",
    "neigh"
   ]
  },
  {
   "cell_type": "code",
   "execution_count": 61,
   "metadata": {},
   "outputs": [
    {
     "data": {
      "text/plain": [
       "array([4, 6, 4, 0, 1])"
      ]
     },
     "execution_count": 61,
     "metadata": {},
     "output_type": "execute_result"
    }
   ],
   "source": [
    "yhat = neigh.predict(X_test)\n",
    "yhat[0:5]"
   ]
  },
  {
   "cell_type": "code",
   "execution_count": 62,
   "metadata": {},
   "outputs": [
    {
     "name": "stdout",
     "output_type": "stream",
     "text": [
      "Train set Accuracy:  0.7875874125874126\n",
      "Test set Accuracy:  0.6829268292682927\n"
     ]
    }
   ],
   "source": [
    "print(\"Train set Accuracy: \", metrics.accuracy_score(y_train, neigh.predict(X_train)))\n",
    "print(\"Test set Accuracy: \", metrics.accuracy_score(y_test, yhat))"
   ]
  },
  {
   "cell_type": "code",
   "execution_count": 74,
   "metadata": {},
   "outputs": [
    {
     "data": {
      "text/plain": [
       "array([0.65156794, 0.66202091, 0.66898955, 0.68989547, 0.68292683,\n",
       "       0.70731707, 0.70383275, 0.72473868, 0.72125436, 0.72125436,\n",
       "       0.72125436, 0.72125436, 0.71428571, 0.71777003, 0.71080139,\n",
       "       0.72473868, 0.70731707, 0.71428571, 0.70731707])"
      ]
     },
     "execution_count": 74,
     "metadata": {},
     "output_type": "execute_result"
    }
   ],
   "source": [
    "Ks = 20\n",
    "mean_acc = np.zeros((Ks-1))\n",
    "std_acc = np.zeros((Ks-1))\n",
    "ConfustionMx = [];\n",
    "\n",
    "for n in range(1,Ks):\n",
    "    \n",
    "    #Train Model and Predict  \n",
    "    neigh = KNeighborsClassifier(n_neighbors = n).fit(X_train,y_train)\n",
    "    yhat=neigh.predict(X_test)\n",
    "    mean_acc[n-1] = metrics.accuracy_score(y_test, yhat)\n",
    "\n",
    "    \n",
    "    std_acc[n-1]=np.std(yhat==y_test)/np.sqrt(yhat.shape[0])\n",
    "\n",
    "mean_acc"
   ]
  },
  {
   "cell_type": "code",
   "execution_count": 75,
   "metadata": {},
   "outputs": [
    {
     "data": {
      "image/png": "[encoded data removed]",
      "text/plain": [
       "<Figure size 432x288 with 1 Axes>"
      ]
     },
     "metadata": {
      "needs_background": "light"
     },
     "output_type": "display_data"
    }
   ],
   "source": [
    "plt.plot(range(1,Ks),mean_acc,'g')\n",
    "plt.fill_between(range(1,Ks),mean_acc - 1 * std_acc,mean_acc + 1 * std_acc, alpha=0.10)\n",
    "plt.legend(('Accuracy ', '+/- 3xstd'))\n",
    "plt.ylabel('Accuracy ')\n",
    "plt.xlabel('Number of Nabors (K)')\n",
    "plt.tight_layout()\n",
    "plt.show()"
   ]
  },
  {
   "cell_type": "code",
   "execution_count": 76,
   "metadata": {},
   "outputs": [
    {
     "name": "stdout",
     "output_type": "stream",
     "text": [
      "The best accuracy was with 0.7247386759581882 with k= 8\n"
     ]
    }
   ],
   "source": [
    "print( \"The best accuracy was with\", mean_acc.max(), \"with k=\", mean_acc.argmax()+1) "
   ]
  },
  {
   "cell_type": "code",
   "execution_count": 215,
   "metadata": {},
   "outputs": [
    {
     "data": {
      "text/plain": [
       "KNeighborsClassifier(algorithm='auto', leaf_size=30, metric='minkowski',\n",
       "           metric_params=None, n_jobs=None, n_neighbors=10, p=2,\n",
       "           weights='distance')"
      ]
     },
     "execution_count": 215,
     "metadata": {},
     "output_type": "execute_result"
    }
   ],
   "source": [
    "k = 10\n",
    "#Train Model and Predict  \n",
    "neigh = KNeighborsClassifier(n_neighbors = k, weights = 'distance').fit(X, y)\n",
    "neigh"
   ]
  },
  {
   "cell_type": "code",
   "execution_count": 216,
   "metadata": {},
   "outputs": [],
   "source": [
    "c = pd.read_csv('c3_full.csv')"
   ]
  },
  {
   "cell_type": "code",
   "execution_count": 217,
   "metadata": {},
   "outputs": [
    {
     "data": {
      "text/html": [
       "<div>\n",
       "<style scoped>\n",
       "    .dataframe tbody tr th:only-of-type {\n",
       "        vertical-align: middle;\n",
       "    }\n",
       "\n",
       "    .dataframe tbody tr th {\n",
       "        vertical-align: top;\n",
       "    }\n",
       "\n",
       "    .dataframe thead th {\n",
       "        text-align: right;\n",
       "    }\n",
       "</style>\n",
       "<table border=\"1\" class=\"dataframe\">\n",
       "  <thead>\n",
       "    <tr style=\"text-align: right;\">\n",
       "      <th></th>\n",
       "      <th>city</th>\n",
       "      <th>country</th>\n",
       "      <th>geonameid</th>\n",
       "      <th>latitude</th>\n",
       "      <th>longitude</th>\n",
       "      <th>country code</th>\n",
       "      <th>population</th>\n",
       "      <th>hasMug</th>\n",
       "      <th>hasShop</th>\n",
       "    </tr>\n",
       "  </thead>\n",
       "  <tbody>\n",
       "    <tr>\n",
       "      <td>0</td>\n",
       "      <td>'Ain Benian</td>\n",
       "      <td>Algeria</td>\n",
       "      <td>2508275</td>\n",
       "      <td>36.80277</td>\n",
       "      <td>2.92185</td>\n",
       "      <td>DZ</td>\n",
       "      <td>31102</td>\n",
       "      <td>False</td>\n",
       "      <td>False</td>\n",
       "    </tr>\n",
       "    <tr>\n",
       "      <td>1</td>\n",
       "      <td>'Ain Deheb</td>\n",
       "      <td>Algeria</td>\n",
       "      <td>2508225</td>\n",
       "      <td>34.84218</td>\n",
       "      <td>1.54697</td>\n",
       "      <td>DZ</td>\n",
       "      <td>36146</td>\n",
       "      <td>False</td>\n",
       "      <td>False</td>\n",
       "    </tr>\n",
       "    <tr>\n",
       "      <td>2</td>\n",
       "      <td>'Ain Merane</td>\n",
       "      <td>Algeria</td>\n",
       "      <td>2508010</td>\n",
       "      <td>36.16277</td>\n",
       "      <td>0.97037</td>\n",
       "      <td>DZ</td>\n",
       "      <td>34413</td>\n",
       "      <td>False</td>\n",
       "      <td>False</td>\n",
       "    </tr>\n",
       "    <tr>\n",
       "      <td>3</td>\n",
       "      <td>'Ain el Bell</td>\n",
       "      <td>Algeria</td>\n",
       "      <td>2508184</td>\n",
       "      <td>34.34381</td>\n",
       "      <td>3.22475</td>\n",
       "      <td>DZ</td>\n",
       "      <td>31916</td>\n",
       "      <td>False</td>\n",
       "      <td>False</td>\n",
       "    </tr>\n",
       "    <tr>\n",
       "      <td>4</td>\n",
       "      <td>'Ain el Melh</td>\n",
       "      <td>Algeria</td>\n",
       "      <td>2508130</td>\n",
       "      <td>34.84146</td>\n",
       "      <td>4.16383</td>\n",
       "      <td>DZ</td>\n",
       "      <td>39798</td>\n",
       "      <td>False</td>\n",
       "      <td>False</td>\n",
       "    </tr>\n",
       "  </tbody>\n",
       "</table>\n",
       "</div>"
      ],
      "text/plain": [
       "           city  country  geonameid  latitude  longitude country code  \\\n",
       "0   'Ain Benian  Algeria    2508275  36.80277    2.92185           DZ   \n",
       "1    'Ain Deheb  Algeria    2508225  34.84218    1.54697           DZ   \n",
       "2   'Ain Merane  Algeria    2508010  36.16277    0.97037           DZ   \n",
       "3  'Ain el Bell  Algeria    2508184  34.34381    3.22475           DZ   \n",
       "4  'Ain el Melh  Algeria    2508130  34.84146    4.16383           DZ   \n",
       "\n",
       "   population  hasMug  hasShop  \n",
       "0       31102   False    False  \n",
       "1       36146   False    False  \n",
       "2       34413   False    False  \n",
       "3       31916   False    False  \n",
       "4       39798   False    False  "
      ]
     },
     "execution_count": 217,
     "metadata": {},
     "output_type": "execute_result"
    }
   ],
   "source": [
    "c.head()"
   ]
  },
  {
   "cell_type": "code",
   "execution_count": 140,
   "metadata": {},
   "outputs": [
    {
     "name": "stdout",
     "output_type": "stream",
     "text": [
      "Requirement already satisfied: xlrd in /home/jupyterlab/conda/envs/python/lib/python3.6/site-packages (1.2.0)\n"
     ]
    }
   ],
   "source": [
    "!pip install xlrd\n",
    "sc = pd.read_excel('sb_countries.xlsx')"
   ]
  },
  {
   "cell_type": "code",
   "execution_count": 141,
   "metadata": {},
   "outputs": [
    {
     "data": {
      "text/html": [
       "<div>\n",
       "<style scoped>\n",
       "    .dataframe tbody tr th:only-of-type {\n",
       "        vertical-align: middle;\n",
       "    }\n",
       "\n",
       "    .dataframe tbody tr th {\n",
       "        vertical-align: top;\n",
       "    }\n",
       "\n",
       "    .dataframe thead th {\n",
       "        text-align: right;\n",
       "    }\n",
       "</style>\n",
       "<table border=\"1\" class=\"dataframe\">\n",
       "  <thead>\n",
       "    <tr style=\"text-align: right;\">\n",
       "      <th></th>\n",
       "      <th>country</th>\n",
       "      <th>region</th>\n",
       "    </tr>\n",
       "  </thead>\n",
       "  <tbody>\n",
       "    <tr>\n",
       "      <td>0</td>\n",
       "      <td>Argentina</td>\n",
       "      <td>Americas</td>\n",
       "    </tr>\n",
       "    <tr>\n",
       "      <td>1</td>\n",
       "      <td>Aruba</td>\n",
       "      <td>Americas</td>\n",
       "    </tr>\n",
       "    <tr>\n",
       "      <td>2</td>\n",
       "      <td>Bahamas</td>\n",
       "      <td>Americas</td>\n",
       "    </tr>\n",
       "    <tr>\n",
       "      <td>3</td>\n",
       "      <td>Bolivia</td>\n",
       "      <td>Americas</td>\n",
       "    </tr>\n",
       "    <tr>\n",
       "      <td>4</td>\n",
       "      <td>Brazil</td>\n",
       "      <td>Americas</td>\n",
       "    </tr>\n",
       "  </tbody>\n",
       "</table>\n",
       "</div>"
      ],
      "text/plain": [
       "     country    region\n",
       "0  Argentina  Americas\n",
       "1      Aruba  Americas\n",
       "2    Bahamas  Americas\n",
       "3    Bolivia  Americas\n",
       "4     Brazil  Americas"
      ]
     },
     "execution_count": 141,
     "metadata": {},
     "output_type": "execute_result"
    }
   ],
   "source": [
    "sc.head()"
   ]
  },
  {
   "cell_type": "code",
   "execution_count": 142,
   "metadata": {},
   "outputs": [],
   "source": [
    "countries = sc.country.values"
   ]
  },
  {
   "cell_type": "code",
   "execution_count": 143,
   "metadata": {},
   "outputs": [
    {
     "data": {
      "text/plain": [
       "81"
      ]
     },
     "execution_count": 143,
     "metadata": {},
     "output_type": "execute_result"
    }
   ],
   "source": [
    "len(countries)"
   ]
  },
  {
   "cell_type": "code",
   "execution_count": 144,
   "metadata": {},
   "outputs": [
    {
     "data": {
      "text/plain": [
       "True"
      ]
     },
     "execution_count": 144,
     "metadata": {},
     "output_type": "execute_result"
    }
   ],
   "source": [
    "'Russia' in countries"
   ]
  },
  {
   "cell_type": "code",
   "execution_count": 150,
   "metadata": {},
   "outputs": [
    {
     "data": {
      "text/plain": [
       "(10627, 9)"
      ]
     },
     "execution_count": 150,
     "metadata": {},
     "output_type": "execute_result"
    }
   ],
   "source": [
    "c.loc[c.country.isin(countries)].shape"
   ]
  },
  {
   "cell_type": "code",
   "execution_count": 151,
   "metadata": {},
   "outputs": [],
   "source": [
    "c = c[c.country.isin(countries)]"
   ]
  },
  {
   "cell_type": "code",
   "execution_count": 152,
   "metadata": {},
   "outputs": [
    {
     "data": {
      "text/plain": [
       "(10627, 9)"
      ]
     },
     "execution_count": 152,
     "metadata": {},
     "output_type": "execute_result"
    }
   ],
   "source": [
    "c.shape"
   ]
  },
  {
   "cell_type": "code",
   "execution_count": 153,
   "metadata": {},
   "outputs": [],
   "source": [
    "cp = c.loc[c.hasShop == True].loc[c.hasMug == False]"
   ]
  },
  {
   "cell_type": "code",
   "execution_count": 154,
   "metadata": {},
   "outputs": [
    {
     "data": {
      "text/plain": [
       "(3875, 9)"
      ]
     },
     "execution_count": 154,
     "metadata": {},
     "output_type": "execute_result"
    }
   ],
   "source": [
    "cp.shape"
   ]
  },
  {
   "cell_type": "code",
   "execution_count": 155,
   "metadata": {},
   "outputs": [
    {
     "data": {
      "text/html": [
       "<div>\n",
       "<style scoped>\n",
       "    .dataframe tbody tr th:only-of-type {\n",
       "        vertical-align: middle;\n",
       "    }\n",
       "\n",
       "    .dataframe tbody tr th {\n",
       "        vertical-align: top;\n",
       "    }\n",
       "\n",
       "    .dataframe thead th {\n",
       "        text-align: right;\n",
       "    }\n",
       "</style>\n",
       "<table border=\"1\" class=\"dataframe\">\n",
       "  <thead>\n",
       "    <tr style=\"text-align: right;\">\n",
       "      <th></th>\n",
       "      <th>city</th>\n",
       "      <th>country</th>\n",
       "      <th>geonameid</th>\n",
       "      <th>latitude</th>\n",
       "      <th>longitude</th>\n",
       "      <th>country code</th>\n",
       "      <th>population</th>\n",
       "      <th>hasMug</th>\n",
       "      <th>hasShop</th>\n",
       "    </tr>\n",
       "  </thead>\n",
       "  <tbody>\n",
       "    <tr>\n",
       "      <td>3066</td>\n",
       "      <td>Delhi</td>\n",
       "      <td>India</td>\n",
       "      <td>1273294</td>\n",
       "      <td>28.65195</td>\n",
       "      <td>77.23149</td>\n",
       "      <td>IN</td>\n",
       "      <td>10927986</td>\n",
       "      <td>False</td>\n",
       "      <td>True</td>\n",
       "    </tr>\n",
       "    <tr>\n",
       "      <td>1339</td>\n",
       "      <td>Bengaluru</td>\n",
       "      <td>India</td>\n",
       "      <td>1277333</td>\n",
       "      <td>12.97194</td>\n",
       "      <td>77.59369</td>\n",
       "      <td>IN</td>\n",
       "      <td>5104047</td>\n",
       "      <td>False</td>\n",
       "      <td>True</td>\n",
       "    </tr>\n",
       "    <tr>\n",
       "      <td>6009</td>\n",
       "      <td>Kolkata</td>\n",
       "      <td>India</td>\n",
       "      <td>1275004</td>\n",
       "      <td>22.56263</td>\n",
       "      <td>88.36304</td>\n",
       "      <td>IN</td>\n",
       "      <td>4631392</td>\n",
       "      <td>False</td>\n",
       "      <td>True</td>\n",
       "    </tr>\n",
       "    <tr>\n",
       "      <td>2415</td>\n",
       "      <td>Chennai</td>\n",
       "      <td>India</td>\n",
       "      <td>1264527</td>\n",
       "      <td>13.08784</td>\n",
       "      <td>80.27847</td>\n",
       "      <td>IN</td>\n",
       "      <td>4328063</td>\n",
       "      <td>False</td>\n",
       "      <td>True</td>\n",
       "    </tr>\n",
       "    <tr>\n",
       "      <td>337</td>\n",
       "      <td>Alexandria</td>\n",
       "      <td>Egypt</td>\n",
       "      <td>361058</td>\n",
       "      <td>31.21564</td>\n",
       "      <td>29.95527</td>\n",
       "      <td>EG</td>\n",
       "      <td>3811516</td>\n",
       "      <td>False</td>\n",
       "      <td>True</td>\n",
       "    </tr>\n",
       "  </tbody>\n",
       "</table>\n",
       "</div>"
      ],
      "text/plain": [
       "            city country  geonameid  latitude  longitude country code  \\\n",
       "3066       Delhi   India    1273294  28.65195   77.23149           IN   \n",
       "1339   Bengaluru   India    1277333  12.97194   77.59369           IN   \n",
       "6009     Kolkata   India    1275004  22.56263   88.36304           IN   \n",
       "2415     Chennai   India    1264527  13.08784   80.27847           IN   \n",
       "337   Alexandria   Egypt     361058  31.21564   29.95527           EG   \n",
       "\n",
       "      population  hasMug  hasShop  \n",
       "3066    10927986   False     True  \n",
       "1339     5104047   False     True  \n",
       "6009     4631392   False     True  \n",
       "2415     4328063   False     True  \n",
       "337      3811516   False     True  "
      ]
     },
     "execution_count": 155,
     "metadata": {},
     "output_type": "execute_result"
    }
   ],
   "source": [
    "cp.sort_values('population', ascending = False).head()"
   ]
  },
  {
   "cell_type": "code",
   "execution_count": 156,
   "metadata": {},
   "outputs": [],
   "source": [
    "# drop Delhi\n",
    "cp = cp[cp.city != 'Delhi']"
   ]
  },
  {
   "cell_type": "code",
   "execution_count": 168,
   "metadata": {},
   "outputs": [],
   "source": [
    "cc = cp.sort_values('population', ascending = False).groupby('country').first().reset_index()\n",
    "cc.drop(columns=['geonameid', 'country code', 'hasMug', 'hasShop'], inplace = True)"
   ]
  },
  {
   "cell_type": "code",
   "execution_count": 171,
   "metadata": {},
   "outputs": [
    {
     "data": {
      "text/plain": [
       "(73, 6)"
      ]
     },
     "execution_count": 171,
     "metadata": {},
     "output_type": "execute_result"
    }
   ],
   "source": [
    "cc['year'] = 2019\n",
    "cc.shape"
   ]
  },
  {
   "cell_type": "code",
   "execution_count": 173,
   "metadata": {},
   "outputs": [
    {
     "data": {
      "text/html": [
       "<div>\n",
       "<style scoped>\n",
       "    .dataframe tbody tr th:only-of-type {\n",
       "        vertical-align: middle;\n",
       "    }\n",
       "\n",
       "    .dataframe tbody tr th {\n",
       "        vertical-align: top;\n",
       "    }\n",
       "\n",
       "    .dataframe thead th {\n",
       "        text-align: right;\n",
       "    }\n",
       "</style>\n",
       "<table border=\"1\" class=\"dataframe\">\n",
       "  <thead>\n",
       "    <tr style=\"text-align: right;\">\n",
       "      <th></th>\n",
       "      <th>country</th>\n",
       "      <th>city</th>\n",
       "      <th>latitude</th>\n",
       "      <th>longitude</th>\n",
       "      <th>population</th>\n",
       "      <th>year</th>\n",
       "    </tr>\n",
       "  </thead>\n",
       "  <tbody>\n",
       "    <tr>\n",
       "      <td>0</td>\n",
       "      <td>Argentina</td>\n",
       "      <td>San Miguel de Tucuman</td>\n",
       "      <td>-26.82414</td>\n",
       "      <td>-65.22260</td>\n",
       "      <td>781023</td>\n",
       "      <td>2019</td>\n",
       "    </tr>\n",
       "    <tr>\n",
       "      <td>1</td>\n",
       "      <td>Australia</td>\n",
       "      <td>Wollongong</td>\n",
       "      <td>-34.42400</td>\n",
       "      <td>150.89345</td>\n",
       "      <td>292190</td>\n",
       "      <td>2019</td>\n",
       "    </tr>\n",
       "    <tr>\n",
       "      <td>2</td>\n",
       "      <td>Austria</td>\n",
       "      <td>Graz</td>\n",
       "      <td>47.06667</td>\n",
       "      <td>15.45000</td>\n",
       "      <td>222326</td>\n",
       "      <td>2019</td>\n",
       "    </tr>\n",
       "    <tr>\n",
       "      <td>3</td>\n",
       "      <td>Bahamas</td>\n",
       "      <td>Nassau</td>\n",
       "      <td>25.05823</td>\n",
       "      <td>-77.34306</td>\n",
       "      <td>227940</td>\n",
       "      <td>2019</td>\n",
       "    </tr>\n",
       "    <tr>\n",
       "      <td>4</td>\n",
       "      <td>Bahrain</td>\n",
       "      <td>Manama</td>\n",
       "      <td>26.22787</td>\n",
       "      <td>50.58565</td>\n",
       "      <td>147074</td>\n",
       "      <td>2019</td>\n",
       "    </tr>\n",
       "  </tbody>\n",
       "</table>\n",
       "</div>"
      ],
      "text/plain": [
       "     country                   city  latitude  longitude  population  year\n",
       "0  Argentina  San Miguel de Tucuman -26.82414  -65.22260      781023  2019\n",
       "1  Australia             Wollongong -34.42400  150.89345      292190  2019\n",
       "2    Austria                   Graz  47.06667   15.45000      222326  2019\n",
       "3    Bahamas                 Nassau  25.05823  -77.34306      227940  2019\n",
       "4    Bahrain                 Manama  26.22787   50.58565      147074  2019"
      ]
     },
     "execution_count": 173,
     "metadata": {},
     "output_type": "execute_result"
    }
   ],
   "source": [
    "cc.head()"
   ]
  },
  {
   "cell_type": "code",
   "execution_count": 175,
   "metadata": {},
   "outputs": [
    {
     "data": {
      "text/plain": [
       "array([[ -26.82414,  -65.2226 , 2019.     ],\n",
       "       [ -34.424  ,  150.89345, 2019.     ],\n",
       "       [  47.06667,   15.45   , 2019.     ],\n",
       "       [  25.05823,  -77.34306, 2019.     ],\n",
       "       [  26.22787,   50.58565, 2019.     ]])"
      ]
     },
     "execution_count": 175,
     "metadata": {},
     "output_type": "execute_result"
    }
   ],
   "source": [
    "cc_knn = cc[['latitude','longitude','year']].values\n",
    "cc_knn[0:5]"
   ]
  },
  {
   "cell_type": "code",
   "execution_count": 180,
   "metadata": {},
   "outputs": [
    {
     "data": {
      "text/plain": [
       "array([[ 0.93609526,  0.04465743, -1.75854715],\n",
       "       [ 1.21511275,  0.09033083, -0.29104017],\n",
       "       [ 1.26696772, -0.04577786,  0.58946402],\n",
       "       [-0.45443941,  0.57067912, -1.17154436],\n",
       "       [-0.82465702, -1.12747478,  0.88296542]])"
      ]
     },
     "execution_count": 180,
     "metadata": {},
     "output_type": "execute_result"
    }
   ],
   "source": [
    "cc_knn = preprocessing.StandardScaler().fit(cc_knn).transform(cc_knn.astype(float))\n",
    "cc_knn[0:5]"
   ]
  },
  {
   "cell_type": "code",
   "execution_count": 218,
   "metadata": {},
   "outputs": [],
   "source": [
    "cc_pred = neigh.predict(cc_knn)"
   ]
  },
  {
   "cell_type": "code",
   "execution_count": 219,
   "metadata": {},
   "outputs": [
    {
     "data": {
      "text/plain": [
       "array([0, 0, 1, 0, 2, 0, 1, 2, 2, 1, 2, 2, 0, 1, 4, 2, 0, 0, 0, 5])"
      ]
     },
     "execution_count": 219,
     "metadata": {},
     "output_type": "execute_result"
    }
   ],
   "source": [
    "cc_pred[0:20]"
   ]
  },
  {
   "cell_type": "code",
   "execution_count": 220,
   "metadata": {},
   "outputs": [
    {
     "data": {
      "text/plain": [
       "array([450, 397, 278,   7,  83, 170,  34,  12])"
      ]
     },
     "execution_count": 220,
     "metadata": {},
     "output_type": "execute_result"
    }
   ],
   "source": [
    "unique, counts = np.unique(cc_pred, return_counts=True)\n",
    "counts"
   ]
  },
  {
   "cell_type": "code",
   "execution_count": 221,
   "metadata": {},
   "outputs": [
    {
     "data": {
      "text/plain": [
       "array(['icon', 'yah', 'bts', 'bto', 'yaho', 'rlf', 'yahx', 'btx', 'yahox'],\n",
       "      dtype=object)"
      ]
     },
     "execution_count": 221,
     "metadata": {},
     "output_type": "execute_result"
    }
   ],
   "source": [
    "series"
   ]
  },
  {
   "cell_type": "code",
   "execution_count": 222,
   "metadata": {},
   "outputs": [],
   "source": [
    "for index,row in cc.iterrows():\n",
    "    predictes_series_num = cc_pred[index]\n",
    "    cc.at[index,'series'] = series[predictes_series_num]"
   ]
  },
  {
   "cell_type": "code",
   "execution_count": 223,
   "metadata": {},
   "outputs": [
    {
     "data": {
      "text/html": [
       "<div>\n",
       "<style scoped>\n",
       "    .dataframe tbody tr th:only-of-type {\n",
       "        vertical-align: middle;\n",
       "    }\n",
       "\n",
       "    .dataframe tbody tr th {\n",
       "        vertical-align: top;\n",
       "    }\n",
       "\n",
       "    .dataframe thead th {\n",
       "        text-align: right;\n",
       "    }\n",
       "</style>\n",
       "<table border=\"1\" class=\"dataframe\">\n",
       "  <thead>\n",
       "    <tr style=\"text-align: right;\">\n",
       "      <th></th>\n",
       "      <th>country</th>\n",
       "      <th>city</th>\n",
       "      <th>latitude</th>\n",
       "      <th>longitude</th>\n",
       "      <th>population</th>\n",
       "      <th>year</th>\n",
       "      <th>series</th>\n",
       "    </tr>\n",
       "  </thead>\n",
       "  <tbody>\n",
       "    <tr>\n",
       "      <td>0</td>\n",
       "      <td>Argentina</td>\n",
       "      <td>San Miguel de Tucuman</td>\n",
       "      <td>-26.82414</td>\n",
       "      <td>-65.22260</td>\n",
       "      <td>781023</td>\n",
       "      <td>2019</td>\n",
       "      <td>icon</td>\n",
       "    </tr>\n",
       "    <tr>\n",
       "      <td>1</td>\n",
       "      <td>Australia</td>\n",
       "      <td>Wollongong</td>\n",
       "      <td>-34.42400</td>\n",
       "      <td>150.89345</td>\n",
       "      <td>292190</td>\n",
       "      <td>2019</td>\n",
       "      <td>icon</td>\n",
       "    </tr>\n",
       "    <tr>\n",
       "      <td>2</td>\n",
       "      <td>Austria</td>\n",
       "      <td>Graz</td>\n",
       "      <td>47.06667</td>\n",
       "      <td>15.45000</td>\n",
       "      <td>222326</td>\n",
       "      <td>2019</td>\n",
       "      <td>yah</td>\n",
       "    </tr>\n",
       "    <tr>\n",
       "      <td>3</td>\n",
       "      <td>Bahamas</td>\n",
       "      <td>Nassau</td>\n",
       "      <td>25.05823</td>\n",
       "      <td>-77.34306</td>\n",
       "      <td>227940</td>\n",
       "      <td>2019</td>\n",
       "      <td>icon</td>\n",
       "    </tr>\n",
       "    <tr>\n",
       "      <td>4</td>\n",
       "      <td>Bahrain</td>\n",
       "      <td>Manama</td>\n",
       "      <td>26.22787</td>\n",
       "      <td>50.58565</td>\n",
       "      <td>147074</td>\n",
       "      <td>2019</td>\n",
       "      <td>bts</td>\n",
       "    </tr>\n",
       "    <tr>\n",
       "      <td>...</td>\n",
       "      <td>...</td>\n",
       "      <td>...</td>\n",
       "      <td>...</td>\n",
       "      <td>...</td>\n",
       "      <td>...</td>\n",
       "      <td>...</td>\n",
       "      <td>...</td>\n",
       "    </tr>\n",
       "    <tr>\n",
       "      <td>68</td>\n",
       "      <td>United Arab Emirates</td>\n",
       "      <td>Al Ain</td>\n",
       "      <td>24.19167</td>\n",
       "      <td>55.76056</td>\n",
       "      <td>408733</td>\n",
       "      <td>2019</td>\n",
       "      <td>yahx</td>\n",
       "    </tr>\n",
       "    <tr>\n",
       "      <td>69</td>\n",
       "      <td>United Kingdom</td>\n",
       "      <td>Nottingham</td>\n",
       "      <td>52.95360</td>\n",
       "      <td>-1.15047</td>\n",
       "      <td>729977</td>\n",
       "      <td>2019</td>\n",
       "      <td>icon</td>\n",
       "    </tr>\n",
       "    <tr>\n",
       "      <td>70</td>\n",
       "      <td>United States</td>\n",
       "      <td>Brooklyn</td>\n",
       "      <td>40.65010</td>\n",
       "      <td>-73.94958</td>\n",
       "      <td>2300664</td>\n",
       "      <td>2019</td>\n",
       "      <td>yah</td>\n",
       "    </tr>\n",
       "    <tr>\n",
       "      <td>71</td>\n",
       "      <td>Uruguay</td>\n",
       "      <td>Montevideo</td>\n",
       "      <td>-34.90328</td>\n",
       "      <td>-56.18816</td>\n",
       "      <td>1270737</td>\n",
       "      <td>2019</td>\n",
       "      <td>yaho</td>\n",
       "    </tr>\n",
       "    <tr>\n",
       "      <td>72</td>\n",
       "      <td>Vietnam</td>\n",
       "      <td>Haiphong</td>\n",
       "      <td>20.86481</td>\n",
       "      <td>106.68345</td>\n",
       "      <td>602695</td>\n",
       "      <td>2019</td>\n",
       "      <td>yahx</td>\n",
       "    </tr>\n",
       "  </tbody>\n",
       "</table>\n",
       "<p>73 rows × 7 columns</p>\n",
       "</div>"
      ],
      "text/plain": [
       "                 country                   city  latitude  longitude  \\\n",
       "0              Argentina  San Miguel de Tucuman -26.82414  -65.22260   \n",
       "1              Australia             Wollongong -34.42400  150.89345   \n",
       "2                Austria                   Graz  47.06667   15.45000   \n",
       "3                Bahamas                 Nassau  25.05823  -77.34306   \n",
       "4                Bahrain                 Manama  26.22787   50.58565   \n",
       "..                   ...                    ...       ...        ...   \n",
       "68  United Arab Emirates                 Al Ain  24.19167   55.76056   \n",
       "69        United Kingdom             Nottingham  52.95360   -1.15047   \n",
       "70         United States               Brooklyn  40.65010  -73.94958   \n",
       "71               Uruguay             Montevideo -34.90328  -56.18816   \n",
       "72               Vietnam               Haiphong  20.86481  106.68345   \n",
       "\n",
       "    population  year series  \n",
       "0       781023  2019   icon  \n",
       "1       292190  2019   icon  \n",
       "2       222326  2019    yah  \n",
       "3       227940  2019   icon  \n",
       "4       147074  2019    bts  \n",
       "..         ...   ...    ...  \n",
       "68      408733  2019   yahx  \n",
       "69      729977  2019   icon  \n",
       "70     2300664  2019    yah  \n",
       "71     1270737  2019   yaho  \n",
       "72      602695  2019   yahx  \n",
       "\n",
       "[73 rows x 7 columns]"
      ]
     },
     "execution_count": 223,
     "metadata": {},
     "output_type": "execute_result"
    }
   ],
   "source": [
    "cc"
   ]
  },
  {
   "cell_type": "code",
   "execution_count": 197,
   "metadata": {},
   "outputs": [
    {
     "data": {
      "text/html": [
       "<div>\n",
       "<style scoped>\n",
       "    .dataframe tbody tr th:only-of-type {\n",
       "        vertical-align: middle;\n",
       "    }\n",
       "\n",
       "    .dataframe tbody tr th {\n",
       "        vertical-align: top;\n",
       "    }\n",
       "\n",
       "    .dataframe thead th {\n",
       "        text-align: right;\n",
       "    }\n",
       "</style>\n",
       "<table border=\"1\" class=\"dataframe\">\n",
       "  <thead>\n",
       "    <tr style=\"text-align: right;\">\n",
       "      <th></th>\n",
       "      <th>id</th>\n",
       "      <th>city</th>\n",
       "      <th>country</th>\n",
       "      <th>month</th>\n",
       "      <th>name</th>\n",
       "      <th>series</th>\n",
       "      <th>state</th>\n",
       "      <th>year</th>\n",
       "      <th>date</th>\n",
       "      <th>cun</th>\n",
       "      <th>location_type</th>\n",
       "      <th>location_path</th>\n",
       "      <th>latitude</th>\n",
       "      <th>longitude</th>\n",
       "    </tr>\n",
       "  </thead>\n",
       "  <tbody>\n",
       "    <tr>\n",
       "      <td>81</td>\n",
       "      <td>bahamas_bts</td>\n",
       "      <td>NaN</td>\n",
       "      <td>Bahamas</td>\n",
       "      <td>December</td>\n",
       "      <td>Bahamas</td>\n",
       "      <td>bts</td>\n",
       "      <td>NaN</td>\n",
       "      <td>2018</td>\n",
       "      <td>2018-12-01</td>\n",
       "      <td>NaN</td>\n",
       "      <td>country</td>\n",
       "      <td>Bahamas</td>\n",
       "      <td>24.773655</td>\n",
       "      <td>-78.000055</td>\n",
       "    </tr>\n",
       "    <tr>\n",
       "      <td>82</td>\n",
       "      <td>bahamas_icon</td>\n",
       "      <td>NaN</td>\n",
       "      <td>Bahamas</td>\n",
       "      <td>January</td>\n",
       "      <td>Bahamas</td>\n",
       "      <td>icon</td>\n",
       "      <td>NaN</td>\n",
       "      <td>2011</td>\n",
       "      <td>2011-01-01</td>\n",
       "      <td>NaN</td>\n",
       "      <td>country</td>\n",
       "      <td>Bahamas</td>\n",
       "      <td>24.773655</td>\n",
       "      <td>-78.000055</td>\n",
       "    </tr>\n",
       "  </tbody>\n",
       "</table>\n",
       "</div>"
      ],
      "text/plain": [
       "              id city  country     month     name series state  year  \\\n",
       "81   bahamas_bts  NaN  Bahamas  December  Bahamas    bts   NaN  2018   \n",
       "82  bahamas_icon  NaN  Bahamas   January  Bahamas   icon   NaN  2011   \n",
       "\n",
       "          date  cun location_type location_path   latitude  longitude  \n",
       "81  2018-12-01  NaN       country       Bahamas  24.773655 -78.000055  \n",
       "82  2011-01-01  NaN       country       Bahamas  24.773655 -78.000055  "
      ]
     },
     "execution_count": 197,
     "metadata": {},
     "output_type": "execute_result"
    }
   ],
   "source": [
    "mf[mf.country=='Bahamas']"
   ]
  },
  {
   "cell_type": "code",
   "execution_count": 205,
   "metadata": {},
   "outputs": [
    {
     "data": {
      "text/plain": [
       "1431"
      ]
     },
     "execution_count": 205,
     "metadata": {},
     "output_type": "execute_result"
    }
   ],
   "source": []
  },
  {
   "cell_type": "code",
   "execution_count": 207,
   "metadata": {},
   "outputs": [
    {
     "data": {
      "text/plain": [
       "1431"
      ]
     },
     "execution_count": 207,
     "metadata": {},
     "output_type": "execute_result"
    }
   ],
   "source": [
    "len(y)"
   ]
  },
  {
   "cell_type": "code",
   "execution_count": null,
   "metadata": {},
   "outputs": [],
   "source": []
  }
 ],
 "metadata": {
  "kernelspec": {
   "display_name": "Python",
   "language": "python",
   "name": "conda-env-python-py"
  },
  "language_info": {
   "codemirror_mode": {
    "name": "ipython",
    "version": 3
   },
   "file_extension": ".py",
   "mimetype": "text/x-python",
   "name": "python",
   "nbconvert_exporter": "python",
   "pygments_lexer": "ipython3",
   "version": "3.6.7"
  }
 },
 "nbformat": 4,
 "nbformat_minor": 4
}
