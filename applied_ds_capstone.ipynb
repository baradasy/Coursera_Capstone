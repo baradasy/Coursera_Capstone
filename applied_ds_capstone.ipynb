{
 "cells": [
  {
   "cell_type": "markdown",
   "metadata": {},
   "source": [
    "# Starbucks City Mugs Predictor\n",
    "#### Applied Data Science Capstone Project by Sergey Timoshpolskiy, September 2019\n",
    "Contact: timoshpolsky (at) gmail.com\n",
    "\n",
    "This notebook is a Report on Coursera Applied Data Science course capstone project."
   ]
  },
  {
   "cell_type": "markdown",
   "metadata": {},
   "source": [
    "## 1. Introduction\n",
    "According to Wikipedia, Starbucks Corporation is an American coffee company and coffeehouse chain. Starbucks was founded in Seattle, Washington in 1971. As of early 2019, the company operates over 30,000 locations worldwide. \n",
    "\n",
    "For most of major locations of Starbucks' presence a collectible city mug is released that is only sold in this specific city. There are also mugs for countries, states, and territories. Here is an example of what these mugs look like:\n",
    "\n",
    "![New York City Been There Starbucks mug](new_york_city_bts.jpg \"New York City\") ![Toronto Been There Starbucks mug](toronto_bts.jpg \"Toronto\")\n",
    "\n",
    "The fact that the mugs are only sold in the locations they are dedicated to makes them valuable collectible items for people traveling around the World. There is a whole community of such mug collectors, who hunt and trade Starbucks mugs. The mugs come in different designs and sizes (called series) totaling to several thousands collectibles. The community of collectors counts at tens of thousands people.\n",
    "\n",
    "In this project I will try to answer the following questions using data:\n",
    "1. What are the next possible  cities for the upcoming Starbucks mugs releases?\n",
    "2. What kind of mugs (what series) are most likely to be released for each of these cities?\n",
    "\n",
    "Besides the audience of collectors community mentioned above, there is Starbucks Marketing department. Maybe one day they find this research helpful."
   ]
  },
  {
   "cell_type": "markdown",
   "metadata": {},
   "source": [
    "## 2. Data\n",
    "\n",
    "To answer the questions above we will need the following data:\n",
    "\n",
    "1. The list of the largest cities in the World by population\n",
    " \n",
    " There is an [article on Wikipedia](https://en.wikipedia.org/wiki/List_of_largest_cities) listing world's largest cities. It seems to have every city in the World that has more than 1 million in population. That could be a good start, but might not be enough for my research. One of the most recently newly released Starbucks city mugs was for Nice, France, which population is about 345,000 people. That means I need work with a list of cities with population at least of 300,000. I will try using United Nations open data sources available [here](https://unstats.un.org/unsd/demographic-social/products/dyb/dyb_2017/). Conveniently, these datasets have geocoordinates listed for each city in the list, along with country, region and population data. The dataset will be exported from the UN site as a \\*.csv file.\n",
    " \n",
    "2. The way of telling if Starbucks is present in a given city\n",
    "\n",
    " That is where Foursquare venues search API comes in handy. For every city in the list I will query Foursquare if a venue with a name Starbucks exists in a 10 km radius of city's geolocation. If the result of such a query is not empty, I will consider the city to be a city of Starbucks presence.\n",
    "\n",
    "3. The list of existing Starbucks collectible city mugs\n",
    "\n",
    " There is no official Starbucks city mugs catalog. Instead, there are plenty of community supported mug lists and databases, such as [Fredorange.com](http://fredorange.com), [Michael Blass's website](http://mugs.m-blass.de) and others. I could have scraped one of these websites, but luckily I have access to a not complete but well-structured Starbucks city mugs database. That database serves as a back-end to my own iOS application, [Star.Mugs](https://itunes.apple.com/us/app/star-mugs-collectors-tool/id1299038579). For each existing mug there are several attributes: city, state (if available), country, series, and release date (year and month). It took some time and effort of several community members enthusiasts to clean and structure this data. Although the list is not complete (not all existing mug series added yet), it should be a good starting point for the research. The data will be provided as a JSON file."
   ]
  },
  {
   "cell_type": "code",
   "execution_count": null,
   "metadata": {},
   "outputs": [],
   "source": []
  }
 ],
 "metadata": {
  "kernelspec": {
   "display_name": "Python",
   "language": "python",
   "name": "conda-env-python-py"
  },
  "language_info": {
   "codemirror_mode": {
    "name": "ipython",
    "version": 3
   },
   "file_extension": ".py",
   "mimetype": "text/x-python",
   "name": "python",
   "nbconvert_exporter": "python",
   "pygments_lexer": "ipython3",
   "version": "3.6.7"
  }
 },
 "nbformat": 4,
 "nbformat_minor": 4
}
